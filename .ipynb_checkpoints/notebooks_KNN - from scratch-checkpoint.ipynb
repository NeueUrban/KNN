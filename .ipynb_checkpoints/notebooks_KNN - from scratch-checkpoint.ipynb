{
 "cells": [
  {
   "cell_type": "code",
   "execution_count": 1,
   "id": "619dec7a-e33f-4b1a-a017-054e923d86be",
   "metadata": {},
   "outputs": [],
   "source": [
    "import numpy as np"
   ]
  },
  {
   "cell_type": "code",
   "execution_count": 2,
   "id": "01d9cfd6-6f92-403f-bf80-dc9a4e5d3436",
   "metadata": {},
   "outputs": [],
   "source": [
    "import scipy as sp"
   ]
  },
  {
   "cell_type": "code",
   "execution_count": 35,
   "id": "69e8eb21-c28c-49ca-ab62-a043b6a5246b",
   "metadata": {},
   "outputs": [],
   "source": [
    "import matplotlib.pyplot as plt"
   ]
  },
  {
   "cell_type": "markdown",
   "id": "bdc4b123-9363-42b6-9992-23cf77395f4a",
   "metadata": {},
   "source": [
    "generate synthetic data"
   ]
  },
  {
   "cell_type": "code",
   "execution_count": 8,
   "id": "8b95f586-17bf-4ded-88e9-f56fdd5e7075",
   "metadata": {},
   "outputs": [],
   "source": [
    "mu = np.array([0,0])"
   ]
  },
  {
   "cell_type": "code",
   "execution_count": 46,
   "id": "2e5e9789-ffb9-479a-ae0b-ba1bba1327bd",
   "metadata": {},
   "outputs": [],
   "source": [
    "cov = np.array([[1,0],[0,100] ])"
   ]
  },
  {
   "cell_type": "code",
   "execution_count": 47,
   "id": "aa3fc9ea-d8a1-4812-af77-49979ab06695",
   "metadata": {},
   "outputs": [
    {
     "data": {
      "text/plain": [
       "array([[  1,   0],\n",
       "       [  0, 100]])"
      ]
     },
     "execution_count": 47,
     "metadata": {},
     "output_type": "execute_result"
    }
   ],
   "source": [
    "cov"
   ]
  },
  {
   "cell_type": "code",
   "execution_count": 39,
   "id": "f4d0b9c3-2a1e-478a-804c-2d336be150bc",
   "metadata": {},
   "outputs": [],
   "source": [
    "data = np.random.multivariate_normal(mu,cov,size=1000)"
   ]
  },
  {
   "cell_type": "code",
   "execution_count": 40,
   "id": "2298428b-77d9-4189-92b6-4cbd22addc6c",
   "metadata": {},
   "outputs": [
    {
     "data": {
      "text/plain": [
       "array([[  0.39190824,  -9.19682671],\n",
       "       [ -0.07495805,   9.70731628],\n",
       "       [ -0.72740886,  47.38386642],\n",
       "       ...,\n",
       "       [ -1.69694203,  10.33639925],\n",
       "       [  0.23516283, -10.25069948],\n",
       "       [ -0.62645521, -24.99315087]])"
      ]
     },
     "execution_count": 40,
     "metadata": {},
     "output_type": "execute_result"
    }
   ],
   "source": [
    "data"
   ]
  },
  {
   "cell_type": "code",
   "execution_count": 41,
   "id": "3c59881a-ec80-42be-a9ee-24769c3561b4",
   "metadata": {},
   "outputs": [],
   "source": [
    "x1 = data[:,0]"
   ]
  },
  {
   "cell_type": "code",
   "execution_count": 42,
   "id": "f8de5e52-c59d-4488-bcc9-ffa24073401d",
   "metadata": {},
   "outputs": [],
   "source": [
    "x2 = data[:,1]"
   ]
  },
  {
   "cell_type": "code",
   "execution_count": 45,
   "id": "406d5cd7-4d12-4503-b388-33ea197c5343",
   "metadata": {},
   "outputs": [
    {
     "data": {
      "text/plain": [
       "(-3.2894046257661773,\n",
       " 3.8103557017194176,\n",
       " -146.8703911548577,\n",
       " 130.7552401709894)"
      ]
     },
     "execution_count": 45,
     "metadata": {},
     "output_type": "execute_result"
    },
    {
     "data": {
      "image/png": "[encoded data removed]",
      "text/plain": [
       "<Figure size 640x480 with 1 Axes>"
      ]
     },
     "metadata": {},
     "output_type": "display_data"
    }
   ],
   "source": [
    "plt.scatter(x1,x2)\n",
    "plt.axis(\"equal\")"
   ]
  },
  {
   "cell_type": "code",
   "execution_count": null,
   "id": "9e53e36b-74b5-4a29-a73b-dd4fdf78949f",
   "metadata": {},
   "outputs": [],
   "source": []
  },
  {
   "cell_type": "code",
   "execution_count": null,
   "id": "19e0f431-6140-44cb-b131-03c2bde6714e",
   "metadata": {},
   "outputs": [],
   "source": []
  },
  {
   "cell_type": "code",
   "execution_count": null,
   "id": "4074b19b-3314-47b6-b027-cdf5e508b350",
   "metadata": {},
   "outputs": [],
   "source": []
  }
 ],
 "metadata": {
  "kernelspec": {
   "display_name": "Python 3 (ipykernel)",
   "language": "python",
   "name": "python3"
  },
  "language_info": {
   "codemirror_mode": {
    "name": "ipython",
    "version": 3
   },
   "file_extension": ".py",
   "mimetype": "text/x-python",
   "name": "python",
   "nbconvert_exporter": "python",
   "pygments_lexer": "ipython3",
   "version": "3.10.9"
  }
 },
 "nbformat": 4,
 "nbformat_minor": 5
}
